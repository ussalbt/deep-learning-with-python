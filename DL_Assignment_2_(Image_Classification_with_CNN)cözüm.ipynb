{
  "cells": [
    {
      "cell_type": "markdown",
      "metadata": {
        "id": "view-in-github",
        "colab_type": "text"
      },
      "source": [
        "<a href=\"https://colab.research.google.com/github/ussalbt/deep-learning-with-python/blob/main/DL_Assignment_2_(Image_Classification_with_CNN)c%C3%B6z%C3%BCm.ipynb\" target=\"_parent\"><img src=\"https://colab.research.google.com/assets/colab-badge.svg\" alt=\"Open In Colab\"/></a>"
      ]
    },
    {
      "cell_type": "markdown",
      "metadata": {
        "id": "Ulnu8aYI1Q1z"
      },
      "source": [
        "___\n",
        "\n",
        "<p style=\"text-align: center;\"><img src=\"https://docs.google.com/uc?id=1lY0Uj5R04yMY3-ZppPWxqCr5pvBLYPnV\" class=\"img-fluid\" alt=\"CLRSWY\"></p>\n",
        "\n",
        "___"
      ]
    },
    {
      "cell_type": "markdown",
      "metadata": {
        "id": "qvt-Pww81Q13"
      },
      "source": [
        "<h1 style=\"text-align: center;\">Deep Learning<br><br>Assignment-2 (CNN)<br><br>Image Classification with CNN<br><h1>"
      ]
    },
    {
      "cell_type": "markdown",
      "metadata": {
        "id": "D2rDcnFZ1Q13"
      },
      "source": [
        "# Task and Dataset Info\n",
        "\n",
        "Welcome to second assignment of Deep learning lesson. Follow the instructions and complete the assignment.\n",
        "\n",
        "**Build an image classifier with Convolutional Neural Networks for the Fashion MNIST dataset. This data set includes 10 labels of different clothing types with 28 by 28 *grayscale* images. There is a training set of 60,000 images and 10,000 test images.**\n",
        "\n",
        "    Label\tDescription\n",
        "    0\t    T-shirt/top\n",
        "    1\t    Trouser\n",
        "    2\t    Pullover\n",
        "    3\t    Dress\n",
        "    4\t    Coat\n",
        "    5\t    Sandal\n",
        "    6\t    Shirt\n",
        "    7\t    Sneaker\n",
        "    8\t    Bag\n",
        "    9\t    Ankle boot"
      ]
    },
    {
      "cell_type": "markdown",
      "metadata": {
        "id": "WEE9rRH71Q14"
      },
      "source": [
        "# Import Libraries"
      ]
    },
    {
      "cell_type": "code",
      "execution_count": 1,
      "metadata": {
        "id": "jFxW3rqd1Q14"
      },
      "outputs": [],
      "source": [
        "import os\n",
        "import numpy as np\n",
        "import pandas as pd\n",
        "import matplotlib.pyplot as plt\n",
        "import seaborn as sns\n",
        "from matplotlib.image import imread\n",
        "\n",
        "#import warnings\n",
        "#warnings.filterwarnings(\"ignore\")\n",
        "#warnings.warn(\"this will not show\")\n",
        "\n",
        "plt.rcParams[\"figure.figsize\"] = (10,6)\n",
        "\n",
        "sns.set_style(\"whitegrid\")\n",
        "pd.set_option('display.float_format', lambda x: '%.3f' % x)\n",
        "\n",
        "# Set it None to display all rows in the dataframe\n",
        "# pd.set_option('display.max_rows', None)\n",
        "\n",
        "# Set it to None to display all columns in the dataframe\n",
        "pd.set_option('display.max_columns', None)"
      ]
    },
    {
      "cell_type": "code",
      "source": [
        "import tensorflow as tf\n",
        "\n",
        "tf.config.list_physical_devices(\"GPU\")"
      ],
      "metadata": {
        "colab": {
          "base_uri": "https://localhost:8080/"
        },
        "id": "D5f7L5oB2nHB",
        "outputId": "48fa024d-7ef5-45d6-f3ae-30e7e1ce6b25"
      },
      "execution_count": 33,
      "outputs": [
        {
          "output_type": "execute_result",
          "data": {
            "text/plain": [
              "[]"
            ]
          },
          "metadata": {},
          "execution_count": 33
        }
      ]
    },
    {
      "cell_type": "markdown",
      "metadata": {
        "id": "8N4DWUuj1Q14"
      },
      "source": [
        "# Recognizing and Understanding Data\n",
        "\n",
        "**TASK 1: Run the code below to download the dataset using Keras.**"
      ]
    },
    {
      "cell_type": "code",
      "execution_count": 10,
      "metadata": {
        "id": "1uUjxEBS1Q15"
      },
      "outputs": [],
      "source": [
        "from tensorflow.keras.datasets import fashion_mnist\n",
        "\n",
        "(X_train, y_train), (X_test, y_test) = fashion_mnist.load_data()"
      ]
    },
    {
      "cell_type": "code",
      "execution_count": 11,
      "metadata": {
        "colab": {
          "base_uri": "https://localhost:8080/"
        },
        "id": "DJ7iSyKh1Q16",
        "outputId": "ac8cb587-9ba6-4913-f4f7-b28c5b9e174f"
      },
      "outputs": [
        {
          "output_type": "stream",
          "name": "stdout",
          "text": [
            "There are  60000 images in the training dataset\n",
            "There are  10000 images in the test dataset\n"
          ]
        }
      ],
      "source": [
        "print(\"There are \", len(X_train), \"images in the training dataset\")     \n",
        "print(\"There are \", len(X_test), \"images in the test dataset\")"
      ]
    },
    {
      "cell_type": "code",
      "execution_count": 12,
      "metadata": {
        "colab": {
          "base_uri": "https://localhost:8080/"
        },
        "id": "WsfMiQ9O1Q16",
        "outputId": "6fc908b9-5228-45a2-9804-b787a7afd524"
      },
      "outputs": [
        {
          "output_type": "execute_result",
          "data": {
            "text/plain": [
              "(28, 28)"
            ]
          },
          "metadata": {},
          "execution_count": 12
        }
      ],
      "source": [
        "X_train[5].shape"
      ]
    },
    {
      "cell_type": "code",
      "source": [
        "X_train[5]"
      ],
      "metadata": {
        "colab": {
          "base_uri": "https://localhost:8080/"
        },
        "id": "Lyg2e4nH3mMB",
        "outputId": "b4934ed1-6211-42e8-dcb2-0b2434e8d1b1"
      },
      "execution_count": 13,
      "outputs": [
        {
          "output_type": "execute_result",
          "data": {
            "text/plain": [
              "array([[  0,   0,   0,   0,   1,   0,   0,   0,   0,  22,  88, 188, 172,\n",
              "        132, 125, 141, 199, 143,   9,   0,   0,   0,   1,   0,   0,   0,\n",
              "          0,   0],\n",
              "       [  0,   0,   0,   1,   0,   0,  20, 131, 199, 206, 196, 202, 242,\n",
              "        255, 255, 250, 222, 197, 206, 188, 126,  17,   0,   0,   0,   0,\n",
              "          0,   0],\n",
              "       [  0,   0,   0,   1,   0,  35, 214, 191, 183, 178, 175, 168, 150,\n",
              "        162, 159, 152, 158, 179, 183, 189, 195, 185,  82,   0,   0,   0,\n",
              "          0,   0],\n",
              "       [  0,   0,   0,   0,   0, 170, 190, 172, 177, 176, 171, 169, 162,\n",
              "        155, 148, 154, 169, 174, 175, 175, 177, 183, 188,  12,   0,   0,\n",
              "          0,   0],\n",
              "       [  0,   0,   0,   0,  25, 194, 180, 178, 174, 184, 187, 189, 187,\n",
              "        184, 181, 189, 200, 197, 193, 190, 178, 175, 194,  90,   0,   0,\n",
              "          0,   0],\n",
              "       [  0,   0,   0,   0,  42, 218, 191, 197, 208, 204, 211, 209, 210,\n",
              "        212, 211, 214, 215, 213, 214, 211, 211, 191, 200, 158,   0,   0,\n",
              "          0,   0],\n",
              "       [  0,   0,   0,   0,  88, 221, 215, 217, 219, 211, 185, 150, 118,\n",
              "        107,  99,  88,  83,  90, 135, 212, 203, 207, 219, 169,   0,   0,\n",
              "          0,   0],\n",
              "       [  0,   0,   0,   0,   0,  27, 118, 162,  40,   0,   0,   0,  10,\n",
              "         19,  28,  39,  47,  36,   0,   0, 203, 230, 220, 203,   0,   0,\n",
              "          0,   0],\n",
              "       [  0,   0,   0,   0, 138, 136,  71,  69,  54, 216, 217, 203, 184,\n",
              "        168, 163, 162, 163, 178, 221, 186,  38,  26,   7,   0,   0,   0,\n",
              "          0,   0],\n",
              "       [  0,   0,   0,   0,  67, 134, 154, 224, 129,  66,  81, 117, 129,\n",
              "        128, 132, 137, 131, 129,  86,  73, 157, 151, 134, 216,  18,   0,\n",
              "          0,   0],\n",
              "       [  0,   0,   0,   0, 203, 198, 172, 183, 206, 255, 255, 250, 243,\n",
              "        240, 239, 235, 238, 244, 255, 238, 184, 160,  86,  98,   0,   0,\n",
              "          0,   0],\n",
              "       [  0,   0,   0,   0, 122, 188, 224, 151, 105, 127,  97, 100, 105,\n",
              "        114, 117, 117, 113, 103,  98, 111, 142, 254, 191, 255,  49,   0,\n",
              "          0,   0],\n",
              "       [  0,   0,   0,   0, 163, 179, 200,  95, 154, 198, 197, 200, 200,\n",
              "        198, 197, 198, 199, 202, 200, 176,  86, 206, 157, 162,  10,   0,\n",
              "          0,   0],\n",
              "       [  0,   0,   0,   0, 197, 201, 229,  71, 144, 194, 181, 183, 179,\n",
              "        182, 180, 179, 180, 190, 185, 197,  76, 219, 185, 201,  34,   0,\n",
              "          0,   0],\n",
              "       [  0,   0,   0,   0, 199, 193, 226,  58, 154, 192, 184, 187, 184,\n",
              "        186, 184, 185, 183, 192, 191, 200,  56, 219, 203, 207,  60,   0,\n",
              "          0,   0],\n",
              "       [  0,   0,   0,   0, 201, 194, 224,  41, 163, 190, 186, 186, 184,\n",
              "        185, 183, 185, 178, 190, 194, 202,  33, 211, 200, 206,  73,   0,\n",
              "          0,   0],\n",
              "       [  0,   0,   0,   0, 201, 197, 222,  17, 172, 190, 186, 187, 182,\n",
              "        186, 185, 187, 180, 187, 193, 202,  26, 212, 202, 203,  76,   0,\n",
              "          0,   0],\n",
              "       [  0,   0,   0,   0, 200, 197, 223,   0, 177, 189, 184, 185, 178,\n",
              "        184, 183, 184, 180, 183, 189, 203,  35, 196, 203, 203,  84,   0,\n",
              "          0,   0],\n",
              "       [  0,   0,   0,   0, 200, 197, 223,   0, 185, 187, 185, 187, 180,\n",
              "        184, 182, 183, 178, 182, 183, 205,  44, 159, 207, 201,  85,   0,\n",
              "          0,   0],\n",
              "       [  0,   0,   0,   0, 187, 198, 225,   0, 194, 188, 184, 185, 180,\n",
              "        183, 183, 184, 181, 181, 177, 206,  46, 129, 211, 200,  88,   0,\n",
              "          0,   0],\n",
              "       [  0,   0,   0,   6, 186, 200, 211,   0, 199, 189, 184, 184, 185,\n",
              "        182, 183, 184, 185, 182, 175, 205,  50,  97, 216, 197,  93,   0,\n",
              "          0,   0],\n",
              "       [  0,   0,   0,   5, 185, 204, 184,   0, 202, 188, 182, 182, 183,\n",
              "        183, 184, 182, 180, 182, 174, 202,  63,  59, 220, 196,  94,   0,\n",
              "          0,   0],\n",
              "       [  0,   0,   0,   5, 184, 206, 157,   0, 204, 187, 187, 189, 192,\n",
              "        190, 190, 191, 190, 187, 183, 202,  78,  35, 222, 197,  95,   0,\n",
              "          0,   0],\n",
              "       [  0,   0,   0,   5, 183, 208, 127,   0, 197, 166, 153, 149, 149,\n",
              "        146, 148, 149, 150, 151, 158, 191,  90,   8, 223, 195,  99,   0,\n",
              "          0,   0],\n",
              "       [  0,   0,   0,   6, 184, 208, 114,   0, 204, 173, 161, 180, 176,\n",
              "        172, 173, 173, 174, 176, 162, 202, 115,   0, 229, 199, 105,   0,\n",
              "          0,   0],\n",
              "       [  0,   0,   0,   9, 178, 204, 115,   0, 121, 135, 114, 117, 114,\n",
              "        114, 117, 118, 119, 117, 113, 147,  63,   0, 225, 196, 107,   0,\n",
              "          0,   0],\n",
              "       [  0,   0,   0,  18, 180, 206, 131,   0,   0,   0,   0,   0,   0,\n",
              "          0,   0,   0,   0,   0,   0,   0,   0,   0, 224, 197, 123,   0,\n",
              "          0,   0],\n",
              "       [  0,   0,   0,   0, 141, 151,  76,   0,   1,   1,   0,   0,   0,\n",
              "          0,   0,   0,   0,   0,   0,   0,   0,   0, 133, 167,  73,   0,\n",
              "          0,   0]], dtype=uint8)"
            ]
          },
          "metadata": {},
          "execution_count": 13
        }
      ]
    },
    {
      "cell_type": "code",
      "source": [
        "plt.imshow(X_train[5]);\n",
        "# plt.matshow(X_train[5]);"
      ],
      "metadata": {
        "colab": {
          "base_uri": "https://localhost:8080/",
          "height": 265
        },
        "id": "4QlG-eQj3pMw",
        "outputId": "45dd6373-990c-404d-a87e-3e90c399cbbc"
      },
      "execution_count": 15,
      "outputs": [
        {
          "output_type": "display_data",
          "data": {
            "text/plain": [
              "<Figure size 432x288 with 1 Axes>"
            ],
            "image/png": "[encoded data removed]"
          },
          "metadata": {
            "needs_background": "light"
          }
        }
      ]
    },
    {
      "cell_type": "code",
      "source": [
        "y_train[5]"
      ],
      "metadata": {
        "colab": {
          "base_uri": "https://localhost:8080/"
        },
        "id": "W41xeKdK3ze5",
        "outputId": "791d1f06-82f2-47bf-e01f-d241a66e9885"
      },
      "execution_count": 16,
      "outputs": [
        {
          "output_type": "execute_result",
          "data": {
            "text/plain": [
              "2"
            ]
          },
          "metadata": {},
          "execution_count": 16
        }
      ]
    },
    {
      "cell_type": "code",
      "source": [
        "y_train.shape"
      ],
      "metadata": {
        "colab": {
          "base_uri": "https://localhost:8080/"
        },
        "id": "As9bE--f328Q",
        "outputId": "d04c2a41-33ff-4fbf-abeb-10665132e0df"
      },
      "execution_count": 17,
      "outputs": [
        {
          "output_type": "execute_result",
          "data": {
            "text/plain": [
              "(60000,)"
            ]
          },
          "metadata": {},
          "execution_count": 17
        }
      ]
    },
    {
      "cell_type": "code",
      "source": [
        "y_train"
      ],
      "metadata": {
        "colab": {
          "base_uri": "https://localhost:8080/"
        },
        "id": "or6fu1fp33C9",
        "outputId": "1012a8bd-a0bd-46c9-ba47-b9b0fe0f84d0"
      },
      "execution_count": 18,
      "outputs": [
        {
          "output_type": "execute_result",
          "data": {
            "text/plain": [
              "array([9, 0, 0, ..., 3, 0, 5], dtype=uint8)"
            ]
          },
          "metadata": {},
          "execution_count": 18
        }
      ]
    },
    {
      "cell_type": "code",
      "source": [
        "np.unique(y_train, return_counts=True)"
      ],
      "metadata": {
        "colab": {
          "base_uri": "https://localhost:8080/"
        },
        "id": "3bwdMfLt5V9l",
        "outputId": "78bfab48-4f13-423c-c0c0-86cae75f880c"
      },
      "execution_count": 38,
      "outputs": [
        {
          "output_type": "execute_result",
          "data": {
            "text/plain": [
              "(array([0, 1, 2, 3, 4, 5, 6, 7, 8, 9], dtype=uint8),\n",
              " array([6000, 6000, 6000, 6000, 6000, 6000, 6000, 6000, 6000, 6000]))"
            ]
          },
          "metadata": {},
          "execution_count": 38
        }
      ]
    },
    {
      "cell_type": "code",
      "source": [
        "num_rows, num_cols = 2, 5\n",
        "f, ax = plt.subplots(2, 5, figsize=(12,5),\n",
        "                     gridspec_kw={'wspace':0.03, 'hspace':0.02}, \n",
        "                     squeeze=True)\n",
        "\n",
        "for r in range(num_rows):\n",
        "    for c in range(num_cols):\n",
        "      \n",
        "        image_index = r * 5 + c\n",
        "        ax[r,c].axis(\"off\")\n",
        "        ax[r,c].set_title('No. %d' % y_train[image_index])\n",
        "        ax[r,c].imshow( X_train[image_index], cmap='gray')\n",
        "       \n",
        "        \n",
        "plt.tight_layout()\n",
        "plt.show()\n",
        "plt.close()"
      ],
      "metadata": {
        "colab": {
          "base_uri": "https://localhost:8080/",
          "height": 351
        },
        "id": "xGN-uCUt5WA4",
        "outputId": "d1198c09-6ac8-4065-bb1b-4ca6d08ef371"
      },
      "execution_count": 90,
      "outputs": [
        {
          "output_type": "stream",
          "name": "stderr",
          "text": [
            "/usr/local/lib/python3.7/dist-packages/ipykernel_launcher.py:15: UserWarning: This figure includes Axes that are not compatible with tight_layout, so results might be incorrect.\n",
            "  from ipykernel import kernelapp as app\n"
          ]
        },
        {
          "output_type": "display_data",
          "data": {
            "text/plain": [
              "<Figure size 864x360 with 10 Axes>"
            ],
            "image/png": "[encoded data removed]"
          },
          "metadata": {
            "needs_background": "light"
          }
        }
      ]
    },
    {
      "cell_type": "markdown",
      "metadata": {
        "id": "nDyUIUxQ1Q17"
      },
      "source": [
        "**TASK 2: Use matplotlib to view an image from the data set. It can be any image from the data set.**"
      ]
    },
    {
      "cell_type": "code",
      "execution_count": 34,
      "metadata": {
        "id": "HlFeQM_m1Q17"
      },
      "outputs": [],
      "source": [
        "classes=[\"T-shirt/top\", \"Trouser\",\"Pullover\",\"Dress\",\"Coat\",\"Sandal\",\"Shirt\",\"Sneaker\",\"Bag\",\"Ankle boot\"]"
      ]
    },
    {
      "cell_type": "code",
      "execution_count": 35,
      "metadata": {
        "colab": {
          "base_uri": "https://localhost:8080/"
        },
        "id": "XzqDcRnS1Q17",
        "outputId": "2c861058-4784-4b8b-9228-249e7140911a"
      },
      "outputs": [
        {
          "output_type": "execute_result",
          "data": {
            "text/plain": [
              "9"
            ]
          },
          "metadata": {},
          "execution_count": 35
        }
      ],
      "source": [
        "y_train[0]"
      ]
    },
    {
      "cell_type": "code",
      "execution_count": 39,
      "metadata": {
        "colab": {
          "base_uri": "https://localhost:8080/",
          "height": 36
        },
        "id": "flNgwkTo1Q18",
        "outputId": "4ae40817-3f9e-4f1e-87f3-c4b0bd547606"
      },
      "outputs": [
        {
          "output_type": "execute_result",
          "data": {
            "text/plain": [
              "'Ankle boot'"
            ],
            "application/vnd.google.colaboratory.intrinsic+json": {
              "type": "string"
            }
          },
          "metadata": {},
          "execution_count": 39
        }
      ],
      "source": [
        "classes[int(y_train[0])]"
      ]
    },
    {
      "cell_type": "code",
      "execution_count": 40,
      "metadata": {
        "colab": {
          "base_uri": "https://localhost:8080/",
          "height": 1000
        },
        "id": "rkblDipN1Q18",
        "outputId": "07c5174f-0a7e-4e1a-fc9c-46ea38017f4c"
      },
      "outputs": [
        {
          "output_type": "display_data",
          "data": {
            "text/plain": [
              "<Figure size 1440x1440 with 64 Axes>"
            ],
            "image/png": "[encoded data removed]"
          },
          "metadata": {
            "needs_background": "light"
          }
        }
      ],
      "source": [
        "plt.figure(figsize=(20, 20))\n",
        "for i in range(64):\n",
        "    rand_index = int(np.random.randint(low=0, high=50000, size=1))\n",
        "    plt.subplot(8, 8, i+1)\n",
        "    plt.axis('off')\n",
        "    plt.title(classes[int(y_train[rand_index])])\n",
        "    plt.imshow(X_train[rand_index])"
      ]
    },
    {
      "cell_type": "markdown",
      "metadata": {
        "id": "o1ofTJ3c1Q18"
      },
      "source": [
        "# Data Preprocessing\n",
        "\n",
        "**TASK 3: Normalize the X train and X test data by dividing by the max value of the image arrays.**"
      ]
    },
    {
      "cell_type": "code",
      "execution_count": 41,
      "metadata": {
        "colab": {
          "base_uri": "https://localhost:8080/"
        },
        "id": "9xJuWjGp1Q18",
        "outputId": "93c9812f-26ad-4c67-9824-df83adff12e3"
      },
      "outputs": [
        {
          "output_type": "execute_result",
          "data": {
            "text/plain": [
              "0"
            ]
          },
          "metadata": {},
          "execution_count": 41
        }
      ],
      "source": [
        "X_train[5].min()"
      ]
    },
    {
      "cell_type": "code",
      "execution_count": 42,
      "metadata": {
        "colab": {
          "base_uri": "https://localhost:8080/"
        },
        "id": "YXGgt7xo1Q18",
        "outputId": "d52c689a-e488-40e0-b05e-f80d763f84be"
      },
      "outputs": [
        {
          "output_type": "execute_result",
          "data": {
            "text/plain": [
              "255"
            ]
          },
          "metadata": {},
          "execution_count": 42
        }
      ],
      "source": [
        "X_train[5].max()"
      ]
    },
    {
      "cell_type": "code",
      "execution_count": 43,
      "metadata": {
        "id": "xJKyi7OX1Q19"
      },
      "outputs": [],
      "source": [
        "X_train = X_train.astype('float32')\n",
        "X_test = X_test.astype('float32')\n",
        "X_train /= 255\n",
        "X_test /= 255"
      ]
    },
    {
      "cell_type": "markdown",
      "metadata": {
        "id": "-_WXaYOW1Q19"
      },
      "source": [
        "**Task 4: Reshape the X arrays to include a 4 dimension of the single channel. Similar to what we did for the numbers MNIST data set.**"
      ]
    },
    {
      "cell_type": "code",
      "execution_count": 44,
      "metadata": {
        "colab": {
          "base_uri": "https://localhost:8080/"
        },
        "id": "ZzOxaj0_1Q19",
        "outputId": "d125ae69-e751-4023-9e7a-868a0a2d6c4c"
      },
      "outputs": [
        {
          "output_type": "execute_result",
          "data": {
            "text/plain": [
              "0.0"
            ]
          },
          "metadata": {},
          "execution_count": 44
        }
      ],
      "source": [
        "X_train[5].min()"
      ]
    },
    {
      "cell_type": "code",
      "execution_count": 45,
      "metadata": {
        "colab": {
          "base_uri": "https://localhost:8080/"
        },
        "id": "vHxUHJns1Q19",
        "outputId": "b814d2d5-95e8-4363-f544-a2111a501202"
      },
      "outputs": [
        {
          "output_type": "execute_result",
          "data": {
            "text/plain": [
              "1.0"
            ]
          },
          "metadata": {},
          "execution_count": 45
        }
      ],
      "source": [
        "X_train[5].max()"
      ]
    },
    {
      "cell_type": "code",
      "execution_count": 52,
      "metadata": {
        "colab": {
          "base_uri": "https://localhost:8080/",
          "height": 265
        },
        "id": "6HrGimHm1Q19",
        "outputId": "7f80f98d-db1b-489a-86a9-edb9f8481b8f"
      },
      "outputs": [
        {
          "output_type": "display_data",
          "data": {
            "text/plain": [
              "<Figure size 432x288 with 1 Axes>"
            ],
            "image/png": "[encoded data removed]"
          },
          "metadata": {
            "needs_background": "light"
          }
        }
      ],
      "source": [
        "plt.imshow(X_train[5]);"
      ]
    },
    {
      "cell_type": "markdown",
      "metadata": {
        "id": "upCkTF371Q19"
      },
      "source": [
        "**TASK 5: Convert the y_train and y_test values to be one-hot encoded for categorical analysis by Keras.**"
      ]
    },
    {
      "cell_type": "code",
      "execution_count": 47,
      "metadata": {
        "colab": {
          "base_uri": "https://localhost:8080/"
        },
        "id": "PSZFmJBJ1Q1-",
        "outputId": "2434dbcd-da41-478a-8328-eae680efe61e"
      },
      "outputs": [
        {
          "output_type": "execute_result",
          "data": {
            "text/plain": [
              "((60000, 28, 28), (10000, 28, 28))"
            ]
          },
          "metadata": {},
          "execution_count": 47
        }
      ],
      "source": [
        "X_train.shape, X_test.shape"
      ]
    },
    {
      "cell_type": "code",
      "source": [
        "X_train.reshape(60000, 28, 28, 1).shape"
      ],
      "metadata": {
        "colab": {
          "base_uri": "https://localhost:8080/"
        },
        "id": "QSrGqku6NNE-",
        "outputId": "41d20f2d-fe7f-4012-e264-999125d3916f"
      },
      "execution_count": 91,
      "outputs": [
        {
          "output_type": "execute_result",
          "data": {
            "text/plain": [
              "(60000, 28, 28, 1)"
            ]
          },
          "metadata": {},
          "execution_count": 91
        }
      ]
    },
    {
      "cell_type": "code",
      "source": [
        "X_train = X_train.reshape(X_train.shape[0],28, 28, 1)\n",
        "X_test = X_test.reshape(X_test.shape[0], 28, 28, 1)"
      ],
      "metadata": {
        "id": "49ebeLGTNRsr"
      },
      "execution_count": 92,
      "outputs": []
    },
    {
      "cell_type": "code",
      "source": [
        "X_train.shape, X_test.shape"
      ],
      "metadata": {
        "colab": {
          "base_uri": "https://localhost:8080/"
        },
        "id": "jIHwUzHjNSBj",
        "outputId": "c5329f4b-d300-4338-96a0-d08e88688f80"
      },
      "execution_count": 93,
      "outputs": [
        {
          "output_type": "execute_result",
          "data": {
            "text/plain": [
              "((60000, 28, 28, 1), (10000, 28, 28, 1))"
            ]
          },
          "metadata": {},
          "execution_count": 93
        }
      ]
    },
    {
      "cell_type": "code",
      "execution_count": 48,
      "metadata": {
        "colab": {
          "base_uri": "https://localhost:8080/"
        },
        "id": "Qe9BvsPI1Q1-",
        "outputId": "d175be25-6e9e-4f82-db5f-c14cb7ba6375"
      },
      "outputs": [
        {
          "output_type": "execute_result",
          "data": {
            "text/plain": [
              "array([9, 0, 0, ..., 3, 0, 5], dtype=uint8)"
            ]
          },
          "metadata": {},
          "execution_count": 48
        }
      ],
      "source": [
        "y_train"
      ]
    },
    {
      "cell_type": "code",
      "source": [
        "y_train.shape\n"
      ],
      "metadata": {
        "colab": {
          "base_uri": "https://localhost:8080/"
        },
        "id": "s-7S34DwNbdk",
        "outputId": "7bf9da30-4aa4-48a7-b527-9220eec1a6e5"
      },
      "execution_count": 94,
      "outputs": [
        {
          "output_type": "execute_result",
          "data": {
            "text/plain": [
              "(60000,)"
            ]
          },
          "metadata": {},
          "execution_count": 94
        }
      ]
    },
    {
      "cell_type": "code",
      "execution_count": 95,
      "metadata": {
        "id": "KaLDBd161Q1-"
      },
      "outputs": [],
      "source": [
        "from tensorflow.keras.utils import to_categorical"
      ]
    },
    {
      "cell_type": "code",
      "execution_count": 96,
      "metadata": {
        "colab": {
          "base_uri": "https://localhost:8080/"
        },
        "id": "fDNVKlrA1Q1-",
        "outputId": "58545ddb-fff8-49a1-bd2a-a46bc37170a4"
      },
      "outputs": [
        {
          "output_type": "execute_result",
          "data": {
            "text/plain": [
              "(10000, 10)"
            ]
          },
          "metadata": {},
          "execution_count": 96
        }
      ],
      "source": [
        "Y_train = to_categorical(y_train,10) \n",
        "Y_test = to_categorical(y_test,10)\n",
        "Y_test.shape"
      ]
    },
    {
      "cell_type": "code",
      "source": [
        "y_train[5]"
      ],
      "metadata": {
        "colab": {
          "base_uri": "https://localhost:8080/"
        },
        "id": "kLPGkRyCNmyb",
        "outputId": "452ae462-de4f-4f9d-db69-d76c759eb9b1"
      },
      "execution_count": 98,
      "outputs": [
        {
          "output_type": "execute_result",
          "data": {
            "text/plain": [
              "2"
            ]
          },
          "metadata": {},
          "execution_count": 98
        }
      ]
    },
    {
      "cell_type": "code",
      "source": [
        "Y_train[5]"
      ],
      "metadata": {
        "colab": {
          "base_uri": "https://localhost:8080/"
        },
        "id": "OoL0_Xm86QCh",
        "outputId": "f137dc9b-af50-4620-badf-911e2f53592e"
      },
      "execution_count": 99,
      "outputs": [
        {
          "output_type": "execute_result",
          "data": {
            "text/plain": [
              "array([0., 0., 1., 0., 0., 0., 0., 0., 0., 0.], dtype=float32)"
            ]
          },
          "metadata": {},
          "execution_count": 99
        }
      ]
    },
    {
      "cell_type": "markdown",
      "metadata": {
        "id": "EmZJT2W-1Q1-"
      },
      "source": [
        "# Modeling"
      ]
    },
    {
      "cell_type": "markdown",
      "metadata": {
        "id": "YaC38pgl1Q1-"
      },
      "source": [
        "## Create the model\n",
        "\n",
        "**TASK 5: Use Keras to create a model consisting of at least the following layers (but feel free to experiment):**\n",
        "\n",
        "* 2D Convolutional Layer, filters=28 and kernel_size=(3,3)\n",
        "* Pooling Layer where pool_size = (2,2) strides=(1,1)\n",
        "\n",
        "* Flatten Layer\n",
        "* Dense Layer (128 Neurons, but feel free to play around with this value), RELU activation\n",
        "\n",
        "* Final Dense Layer of 10 Neurons with a softmax activation\n",
        "\n",
        "**Then compile the model with these parameters: loss='categorical_crossentropy', optimizer='rmsprop', metrics=['accuracy']**"
      ]
    },
    {
      "cell_type": "code",
      "execution_count": 53,
      "metadata": {
        "id": "NYbaCloH1Q1-"
      },
      "outputs": [],
      "source": [
        "from tensorflow.keras.models import Sequential\n",
        "from tensorflow.keras.layers import Dense, Conv2D, MaxPool2D, Flatten, Dropout"
      ]
    },
    {
      "cell_type": "code",
      "source": [
        "model = Sequential()\n",
        "\n",
        "model.add(Conv2D(filters=28, kernel_size=(3,3), input_shape=(28, 28, 1), activation='relu',strides=(1,1))) #  padding = valid \n",
        "\n",
        "model.add(MaxPool2D(pool_size=(2, 2))) # stride = pool size, padding = valid\n",
        "\n",
        "model.add(Flatten())\n",
        "\n",
        "model.add(Dense(128, activation='relu'))\n",
        "\n",
        "model.add(Dense(10, activation='softmax'))\n",
        "\n",
        "model.compile(loss='categorical_crossentropy',\n",
        "              optimizer='adam',\n",
        "              metrics=['accuracy'])"
      ],
      "metadata": {
        "id": "I_xOAjos6i-q"
      },
      "execution_count": 101,
      "outputs": []
    },
    {
      "cell_type": "code",
      "source": [
        "model.summary()"
      ],
      "metadata": {
        "colab": {
          "base_uri": "https://localhost:8080/"
        },
        "id": "a63DR6N67u2C",
        "outputId": "a71b1e75-6fb1-4b74-9209-eef9de7784fc"
      },
      "execution_count": 102,
      "outputs": [
        {
          "output_type": "stream",
          "name": "stdout",
          "text": [
            "Model: \"sequential_14\"\n",
            "_________________________________________________________________\n",
            " Layer (type)                Output Shape              Param #   \n",
            "=================================================================\n",
            " conv2d_23 (Conv2D)          (None, 26, 26, 28)        280       \n",
            "                                                                 \n",
            " max_pooling2d_22 (MaxPoolin  (None, 13, 13, 28)       0         \n",
            " g2D)                                                            \n",
            "                                                                 \n",
            " flatten_12 (Flatten)        (None, 4732)              0         \n",
            "                                                                 \n",
            " dense_36 (Dense)            (None, 128)               605824    \n",
            "                                                                 \n",
            " dense_37 (Dense)            (None, 10)                1290      \n",
            "                                                                 \n",
            "=================================================================\n",
            "Total params: 607,394\n",
            "Trainable params: 607,394\n",
            "Non-trainable params: 0\n",
            "_________________________________________________________________\n"
          ]
        }
      ]
    },
    {
      "cell_type": "code",
      "source": [
        ""
      ],
      "metadata": {
        "id": "oL3Zr-Ac70Ue"
      },
      "execution_count": null,
      "outputs": []
    },
    {
      "cell_type": "markdown",
      "metadata": {
        "id": "3MjetjE41Q1-"
      },
      "source": [
        "##  Model Training \n",
        "\n",
        "**TASK 6: Train/Fit the model to the x_train set by using EarlyStop. Amount of epochs is up to you.**"
      ]
    },
    {
      "cell_type": "code",
      "source": [
        "from tensorflow.keras.callbacks import EarlyStopping"
      ],
      "metadata": {
        "id": "lihiVWCj70RR"
      },
      "execution_count": 103,
      "outputs": []
    },
    {
      "cell_type": "code",
      "execution_count": 104,
      "metadata": {
        "id": "x6ZxCR7X1Q1_"
      },
      "outputs": [],
      "source": [
        "early_stop = EarlyStopping(monitor='val_loss', patience=2, restore_best_weights = True)"
      ]
    },
    {
      "cell_type": "code",
      "execution_count": 105,
      "metadata": {
        "colab": {
          "base_uri": "https://localhost:8080/"
        },
        "id": "MRRLLwoJ1Q1_",
        "outputId": "0e3599b8-87f6-47de-fd80-b0d39f26704c"
      },
      "outputs": [
        {
          "output_type": "stream",
          "name": "stdout",
          "text": [
            "Epoch 1/10\n",
            "1875/1875 [==============================] - 38s 20ms/step - loss: 0.3915 - accuracy: 0.8601 - val_loss: 0.3326 - val_accuracy: 0.8805\n",
            "Epoch 2/10\n",
            "1875/1875 [==============================] - 38s 20ms/step - loss: 0.2678 - accuracy: 0.9040 - val_loss: 0.2819 - val_accuracy: 0.8932\n",
            "Epoch 3/10\n",
            "1875/1875 [==============================] - 37s 20ms/step - loss: 0.2251 - accuracy: 0.9170 - val_loss: 0.2626 - val_accuracy: 0.9044\n",
            "Epoch 4/10\n",
            "1875/1875 [==============================] - 37s 20ms/step - loss: 0.1907 - accuracy: 0.9294 - val_loss: 0.2575 - val_accuracy: 0.9088\n",
            "Epoch 5/10\n",
            "1875/1875 [==============================] - 37s 20ms/step - loss: 0.1626 - accuracy: 0.9396 - val_loss: 0.2581 - val_accuracy: 0.9095\n",
            "Epoch 6/10\n",
            "1875/1875 [==============================] - 38s 20ms/step - loss: 0.1392 - accuracy: 0.9493 - val_loss: 0.2412 - val_accuracy: 0.9184\n",
            "Epoch 7/10\n",
            "1875/1875 [==============================] - 37s 20ms/step - loss: 0.1192 - accuracy: 0.9569 - val_loss: 0.2763 - val_accuracy: 0.9119\n",
            "Epoch 8/10\n",
            "1875/1875 [==============================] - 37s 20ms/step - loss: 0.1003 - accuracy: 0.9638 - val_loss: 0.2814 - val_accuracy: 0.9145\n"
          ]
        },
        {
          "output_type": "execute_result",
          "data": {
            "text/plain": [
              "<keras.callbacks.History at 0x7f2bfaae84d0>"
            ]
          },
          "metadata": {},
          "execution_count": 105
        }
      ],
      "source": [
        "model.fit(X_train, Y_train, batch_size=32, epochs=10, validation_data=(X_test,Y_test),callbacks=[early_stop])"
      ]
    },
    {
      "cell_type": "code",
      "execution_count": 106,
      "metadata": {
        "colab": {
          "base_uri": "https://localhost:8080/"
        },
        "id": "7EqB7gkq1Q1_",
        "outputId": "574cdae6-e4a3-4439-ddf8-68645b991cf7"
      },
      "outputs": [
        {
          "output_type": "execute_result",
          "data": {
            "text/plain": [
              "['loss', 'accuracy']"
            ]
          },
          "metadata": {},
          "execution_count": 106
        }
      ],
      "source": [
        "model.metrics_names"
      ]
    },
    {
      "cell_type": "code",
      "source": [
        "summary = pd.DataFrame(model.history.history)\n",
        "summary.head()"
      ],
      "metadata": {
        "colab": {
          "base_uri": "https://localhost:8080/",
          "height": 206
        },
        "id": "SoRK6DYgQlm7",
        "outputId": "172ca46c-fd73-49fb-d00a-bbc96e37aa4a"
      },
      "execution_count": 107,
      "outputs": [
        {
          "output_type": "execute_result",
          "data": {
            "text/plain": [
              "   loss  accuracy  val_loss  val_accuracy\n",
              "0 0.392     0.860     0.333         0.881\n",
              "1 0.268     0.904     0.282         0.893\n",
              "2 0.225     0.917     0.263         0.904\n",
              "3 0.191     0.929     0.258         0.909\n",
              "4 0.163     0.940     0.258         0.910"
            ],
            "text/html": [
              "\n",
              "  <div id=\"df-91ba4082-1e2b-4b4d-8814-b970b7ff0a81\">\n",
              "    <div class=\"colab-df-container\">\n",
              "      <div>\n",
              "<style scoped>\n",
              "    .dataframe tbody tr th:only-of-type {\n",
              "        vertical-align: middle;\n",
              "    }\n",
              "\n",
              "    .dataframe tbody tr th {\n",
              "        vertical-align: top;\n",
              "    }\n",
              "\n",
              "    .dataframe thead th {\n",
              "        text-align: right;\n",
              "    }\n",
              "</style>\n",
              "<table border=\"1\" class=\"dataframe\">\n",
              "  <thead>\n",
              "    <tr style=\"text-align: right;\">\n",
              "      <th></th>\n",
              "      <th>loss</th>\n",
              "      <th>accuracy</th>\n",
              "      <th>val_loss</th>\n",
              "      <th>val_accuracy</th>\n",
              "    </tr>\n",
              "  </thead>\n",
              "  <tbody>\n",
              "    <tr>\n",
              "      <th>0</th>\n",
              "      <td>0.392</td>\n",
              "      <td>0.860</td>\n",
              "      <td>0.333</td>\n",
              "      <td>0.881</td>\n",
              "    </tr>\n",
              "    <tr>\n",
              "      <th>1</th>\n",
              "      <td>0.268</td>\n",
              "      <td>0.904</td>\n",
              "      <td>0.282</td>\n",
              "      <td>0.893</td>\n",
              "    </tr>\n",
              "    <tr>\n",
              "      <th>2</th>\n",
              "      <td>0.225</td>\n",
              "      <td>0.917</td>\n",
              "      <td>0.263</td>\n",
              "      <td>0.904</td>\n",
              "    </tr>\n",
              "    <tr>\n",
              "      <th>3</th>\n",
              "      <td>0.191</td>\n",
              "      <td>0.929</td>\n",
              "      <td>0.258</td>\n",
              "      <td>0.909</td>\n",
              "    </tr>\n",
              "    <tr>\n",
              "      <th>4</th>\n",
              "      <td>0.163</td>\n",
              "      <td>0.940</td>\n",
              "      <td>0.258</td>\n",
              "      <td>0.910</td>\n",
              "    </tr>\n",
              "  </tbody>\n",
              "</table>\n",
              "</div>\n",
              "      <button class=\"colab-df-convert\" onclick=\"convertToInteractive('df-91ba4082-1e2b-4b4d-8814-b970b7ff0a81')\"\n",
              "              title=\"Convert this dataframe to an interactive table.\"\n",
              "              style=\"display:none;\">\n",
              "        \n",
              "  <svg xmlns=\"http://www.w3.org/2000/svg\" height=\"24px\"viewBox=\"0 0 24 24\"\n",
              "       width=\"24px\">\n",
              "    <path d=\"M0 0h24v24H0V0z\" fill=\"none\"/>\n",
              "    <path d=\"M18.56 5.44l.94 2.06.94-2.06 2.06-.94-2.06-.94-.94-2.06-.94 2.06-2.06.94zm-11 1L8.5 8.5l.94-2.06 2.06-.94-2.06-.94L8.5 2.5l-.94 2.06-2.06.94zm10 10l.94 2.06.94-2.06 2.06-.94-2.06-.94-.94-2.06-.94 2.06-2.06.94z\"/><path d=\"M17.41 7.96l-1.37-1.37c-.4-.4-.92-.59-1.43-.59-.52 0-1.04.2-1.43.59L10.3 9.45l-7.72 7.72c-.78.78-.78 2.05 0 2.83L4 21.41c.39.39.9.59 1.41.59.51 0 1.02-.2 1.41-.59l7.78-7.78 2.81-2.81c.8-.78.8-2.07 0-2.86zM5.41 20L4 18.59l7.72-7.72 1.47 1.35L5.41 20z\"/>\n",
              "  </svg>\n",
              "      </button>\n",
              "      \n",
              "  <style>\n",
              "    .colab-df-container {\n",
              "      display:flex;\n",
              "      flex-wrap:wrap;\n",
              "      gap: 12px;\n",
              "    }\n",
              "\n",
              "    .colab-df-convert {\n",
              "      background-color: #E8F0FE;\n",
              "      border: none;\n",
              "      border-radius: 50%;\n",
              "      cursor: pointer;\n",
              "      display: none;\n",
              "      fill: #1967D2;\n",
              "      height: 32px;\n",
              "      padding: 0 0 0 0;\n",
              "      width: 32px;\n",
              "    }\n",
              "\n",
              "    .colab-df-convert:hover {\n",
              "      background-color: #E2EBFA;\n",
              "      box-shadow: 0px 1px 2px rgba(60, 64, 67, 0.3), 0px 1px 3px 1px rgba(60, 64, 67, 0.15);\n",
              "      fill: #174EA6;\n",
              "    }\n",
              "\n",
              "    [theme=dark] .colab-df-convert {\n",
              "      background-color: #3B4455;\n",
              "      fill: #D2E3FC;\n",
              "    }\n",
              "\n",
              "    [theme=dark] .colab-df-convert:hover {\n",
              "      background-color: #434B5C;\n",
              "      box-shadow: 0px 1px 3px 1px rgba(0, 0, 0, 0.15);\n",
              "      filter: drop-shadow(0px 1px 2px rgba(0, 0, 0, 0.3));\n",
              "      fill: #FFFFFF;\n",
              "    }\n",
              "  </style>\n",
              "\n",
              "      <script>\n",
              "        const buttonEl =\n",
              "          document.querySelector('#df-91ba4082-1e2b-4b4d-8814-b970b7ff0a81 button.colab-df-convert');\n",
              "        buttonEl.style.display =\n",
              "          google.colab.kernel.accessAllowed ? 'block' : 'none';\n",
              "\n",
              "        async function convertToInteractive(key) {\n",
              "          const element = document.querySelector('#df-91ba4082-1e2b-4b4d-8814-b970b7ff0a81');\n",
              "          const dataTable =\n",
              "            await google.colab.kernel.invokeFunction('convertToInteractive',\n",
              "                                                     [key], {});\n",
              "          if (!dataTable) return;\n",
              "\n",
              "          const docLinkHtml = 'Like what you see? Visit the ' +\n",
              "            '<a target=\"_blank\" href=https://colab.research.google.com/notebooks/data_table.ipynb>data table notebook</a>'\n",
              "            + ' to learn more about interactive tables.';\n",
              "          element.innerHTML = '';\n",
              "          dataTable['output_type'] = 'display_data';\n",
              "          await google.colab.output.renderOutput(dataTable, element);\n",
              "          const docLink = document.createElement('div');\n",
              "          docLink.innerHTML = docLinkHtml;\n",
              "          element.appendChild(docLink);\n",
              "        }\n",
              "      </script>\n",
              "    </div>\n",
              "  </div>\n",
              "  "
            ]
          },
          "metadata": {},
          "execution_count": 107
        }
      ]
    },
    {
      "cell_type": "markdown",
      "metadata": {
        "id": "YnvPmQr41Q1_"
      },
      "source": [
        "**TASK 7: Plot values of metrics you used in your model.**"
      ]
    },
    {
      "cell_type": "code",
      "execution_count": 108,
      "metadata": {
        "colab": {
          "base_uri": "https://localhost:8080/",
          "height": 268
        },
        "id": "_UuEtie_1Q1_",
        "outputId": "d26239cc-1758-417b-cded-374f62875bc8"
      },
      "outputs": [
        {
          "output_type": "display_data",
          "data": {
            "text/plain": [
              "<Figure size 432x288 with 1 Axes>"
            ],
            "image/png": "[encoded data removed]"
          },
          "metadata": {
            "needs_background": "light"
          }
        }
      ],
      "source": [
        "summary.plot();"
      ]
    },
    {
      "cell_type": "code",
      "execution_count": 109,
      "metadata": {
        "colab": {
          "base_uri": "https://localhost:8080/",
          "height": 265
        },
        "id": "IxI_fjsj1Q1_",
        "outputId": "c1a0f92d-b418-4b9d-b776-15d64ef62736"
      },
      "outputs": [
        {
          "output_type": "display_data",
          "data": {
            "text/plain": [
              "<Figure size 432x288 with 1 Axes>"
            ],
            "image/png": "[encoded data removed]"
          },
          "metadata": {
            "needs_background": "light"
          }
        }
      ],
      "source": [
        "summary[[\"loss\", \"val_loss\"]].plot();"
      ]
    },
    {
      "cell_type": "code",
      "source": [
        "summary[[\"accuracy\", \"val_accuracy\"]].plot();"
      ],
      "metadata": {
        "colab": {
          "base_uri": "https://localhost:8080/",
          "height": 265
        },
        "id": "zG_4UMnfQwDE",
        "outputId": "a7930b46-7915-4545-f49a-5706a72706a3"
      },
      "execution_count": 110,
      "outputs": [
        {
          "output_type": "display_data",
          "data": {
            "text/plain": [
              "<Figure size 432x288 with 1 Axes>"
            ],
            "image/png": "[encoded data removed]"
          },
          "metadata": {
            "needs_background": "light"
          }
        }
      ]
    },
    {
      "cell_type": "markdown",
      "metadata": {
        "id": "kShg9QGh1Q1_"
      },
      "source": [
        "## Model Evaluation\n",
        "\n",
        "**TASK 8: Show the accuracy,precision,recall,f1-score the model achieved on the x_test data set. Keep in mind, there are quite a few ways to do this, but we recommend following the same procedure we showed in the MNIST lecture.**"
      ]
    },
    {
      "cell_type": "code",
      "execution_count": 111,
      "metadata": {
        "id": "4lX2pQaQ1Q1_"
      },
      "outputs": [],
      "source": [
        "from sklearn.metrics import classification_report, confusion_matrix,multilabel_confusion_matrix"
      ]
    },
    {
      "cell_type": "code",
      "execution_count": 112,
      "metadata": {
        "colab": {
          "base_uri": "https://localhost:8080/"
        },
        "id": "vWn1zyw51Q2A",
        "outputId": "9d7b70c1-82c2-41ef-a770-9f0e68f9ea12"
      },
      "outputs": [
        {
          "output_type": "stream",
          "name": "stdout",
          "text": [
            "313/313 [==============================] - 4s 14ms/step - loss: 0.2412 - accuracy: 0.9184\n"
          ]
        },
        {
          "output_type": "execute_result",
          "data": {
            "text/plain": [
              "[0.2411811500787735, 0.91839998960495]"
            ]
          },
          "metadata": {},
          "execution_count": 112
        }
      ],
      "source": [
        "model.evaluate(X_test,Y_test)"
      ]
    },
    {
      "cell_type": "code",
      "execution_count": 113,
      "metadata": {
        "colab": {
          "base_uri": "https://localhost:8080/"
        },
        "id": "vd-FWHXV1Q2A",
        "outputId": "2823bfa5-ae73-4b8a-8862-dbb25fd1d97b"
      },
      "outputs": [
        {
          "output_type": "stream",
          "name": "stdout",
          "text": [
            "Test loss: 0.2411811500787735\n",
            "Test accuracy: 0.91839998960495\n"
          ]
        }
      ],
      "source": [
        "score = model.evaluate(X_test, Y_test, verbose=0)\n",
        "print('Test loss:', score[0])\n",
        "print('Test accuracy:', score[1])"
      ]
    },
    {
      "cell_type": "code",
      "execution_count": 114,
      "metadata": {
        "colab": {
          "base_uri": "https://localhost:8080/"
        },
        "id": "6Dp6fsdh1Q2A",
        "outputId": "d7b0dc93-e732-45b4-c332-8b08cfc9d317"
      },
      "outputs": [
        {
          "output_type": "execute_result",
          "data": {
            "text/plain": [
              "array([[5.2061787e-06, 1.2019767e-10, 3.9955166e-06, ..., 9.8375422e-05,\n",
              "        5.7773980e-07, 9.9987531e-01],\n",
              "       [3.0828679e-07, 8.8610454e-14, 9.9995875e-01, ..., 1.3355908e-12,\n",
              "        5.0143055e-13, 1.9225023e-12],\n",
              "       [1.5098667e-08, 1.0000000e+00, 1.3648452e-11, ..., 7.5046685e-16,\n",
              "        1.8911686e-09, 1.9214873e-14],\n",
              "       ...,\n",
              "       [1.2665724e-07, 4.0004139e-11, 1.2792142e-07, ..., 3.2690480e-08,\n",
              "        9.9998784e-01, 4.3863997e-12],\n",
              "       [8.7855829e-09, 9.9999988e-01, 1.8133566e-09, ..., 2.7230883e-14,\n",
              "        3.2390778e-12, 7.6901358e-10],\n",
              "       [1.4747326e-05, 8.1511075e-08, 7.0298417e-04, ..., 1.9051200e-02,\n",
              "        1.1171274e-04, 7.4965635e-04]], dtype=float32)"
            ]
          },
          "metadata": {},
          "execution_count": 114
        }
      ],
      "source": [
        "pred_prob = model.predict(X_test)\n",
        "pred_prob"
      ]
    },
    {
      "cell_type": "code",
      "source": [
        "pred_prob.shape"
      ],
      "metadata": {
        "colab": {
          "base_uri": "https://localhost:8080/"
        },
        "id": "RYlnZFyZRMqT",
        "outputId": "6df37389-3759-4297-af04-684bf15ed35a"
      },
      "execution_count": 115,
      "outputs": [
        {
          "output_type": "execute_result",
          "data": {
            "text/plain": [
              "(10000, 10)"
            ]
          },
          "metadata": {},
          "execution_count": 115
        }
      ]
    },
    {
      "cell_type": "code",
      "source": [
        "pred_prob[0]"
      ],
      "metadata": {
        "colab": {
          "base_uri": "https://localhost:8080/"
        },
        "id": "XZnMUErfRMvP",
        "outputId": "f47e01b0-dc7c-4c21-bce4-6f115eb24e0b"
      },
      "execution_count": 116,
      "outputs": [
        {
          "output_type": "execute_result",
          "data": {
            "text/plain": [
              "array([5.2061787e-06, 1.2019767e-10, 3.9955166e-06, 2.8825813e-08,\n",
              "       7.1312471e-08, 1.5692163e-05, 6.8859492e-07, 9.8375422e-05,\n",
              "       5.7773980e-07, 9.9987531e-01], dtype=float32)"
            ]
          },
          "metadata": {},
          "execution_count": 116
        }
      ]
    },
    {
      "cell_type": "code",
      "source": [
        "np.argmax(pred_prob[0])"
      ],
      "metadata": {
        "colab": {
          "base_uri": "https://localhost:8080/"
        },
        "id": "OsmEXcYmRRiS",
        "outputId": "ed688ad5-8a8a-42d8-af01-b417edb9986f"
      },
      "execution_count": 117,
      "outputs": [
        {
          "output_type": "execute_result",
          "data": {
            "text/plain": [
              "9"
            ]
          },
          "metadata": {},
          "execution_count": 117
        }
      ]
    },
    {
      "cell_type": "code",
      "source": [
        "y_pred = np.argmax(pred_prob, axis=1)\n",
        "y_pred"
      ],
      "metadata": {
        "colab": {
          "base_uri": "https://localhost:8080/"
        },
        "id": "-4NC799bRRqB",
        "outputId": "fd4a3848-9093-4258-bbc6-315a8356982d"
      },
      "execution_count": 118,
      "outputs": [
        {
          "output_type": "execute_result",
          "data": {
            "text/plain": [
              "array([9, 2, 1, ..., 8, 1, 5])"
            ]
          },
          "metadata": {},
          "execution_count": 118
        }
      ]
    },
    {
      "cell_type": "code",
      "source": [
        "y_pred.shape"
      ],
      "metadata": {
        "colab": {
          "base_uri": "https://localhost:8080/"
        },
        "id": "ZpRwiXC1RYgL",
        "outputId": "8c8ee98d-8e55-420f-b294-92822d2d2d1a"
      },
      "execution_count": 119,
      "outputs": [
        {
          "output_type": "execute_result",
          "data": {
            "text/plain": [
              "(10000,)"
            ]
          },
          "metadata": {},
          "execution_count": 119
        }
      ]
    },
    {
      "cell_type": "code",
      "source": [
        "print(classification_report(y_test, y_pred))"
      ],
      "metadata": {
        "colab": {
          "base_uri": "https://localhost:8080/"
        },
        "id": "gT5QUJmrRby0",
        "outputId": "c69cd870-7d7a-4e96-d93c-0e946bdf2724"
      },
      "execution_count": 120,
      "outputs": [
        {
          "output_type": "stream",
          "name": "stdout",
          "text": [
            "              precision    recall  f1-score   support\n",
            "\n",
            "           0       0.90      0.84      0.87      1000\n",
            "           1       1.00      0.98      0.99      1000\n",
            "           2       0.87      0.87      0.87      1000\n",
            "           3       0.92      0.93      0.93      1000\n",
            "           4       0.87      0.88      0.87      1000\n",
            "           5       0.98      0.99      0.98      1000\n",
            "           6       0.75      0.79      0.77      1000\n",
            "           7       0.98      0.95      0.97      1000\n",
            "           8       0.98      0.98      0.98      1000\n",
            "           9       0.96      0.98      0.97      1000\n",
            "\n",
            "    accuracy                           0.92     10000\n",
            "   macro avg       0.92      0.92      0.92     10000\n",
            "weighted avg       0.92      0.92      0.92     10000\n",
            "\n"
          ]
        }
      ]
    },
    {
      "cell_type": "code",
      "source": [
        "print(confusion_matrix(y_test, y_pred))"
      ],
      "metadata": {
        "colab": {
          "base_uri": "https://localhost:8080/"
        },
        "id": "IyD-oIeCRb1i",
        "outputId": "dacf0dc2-fce2-48da-b488-f22730623d16"
      },
      "execution_count": 121,
      "outputs": [
        {
          "output_type": "stream",
          "name": "stdout",
          "text": [
            "[[836   0  19  18   7   1 114   0   5   0]\n",
            " [  2 978   1  12   3   0   3   0   1   0]\n",
            " [ 13   1 872   6  56   0  52   0   0   0]\n",
            " [  6   0   6 934  16   0  37   0   1   0]\n",
            " [  0   1  47  24 876   0  51   0   0   1]\n",
            " [  0   0   0   0   0 986   0   5   0   9]\n",
            " [ 73   0  57  20  52   0 788   0  10   0]\n",
            " [  0   0   0   0   0  13   0 952   0  35]\n",
            " [  2   1   2   4   1   3   3   2 982   0]\n",
            " [  0   0   0   0   0   6   0  13   1 980]]\n"
          ]
        }
      ]
    },
    {
      "cell_type": "code",
      "source": [
        "y_test != y_pred"
      ],
      "metadata": {
        "colab": {
          "base_uri": "https://localhost:8080/"
        },
        "id": "FlBrHByGRb4Z",
        "outputId": "9e8ef373-de81-47f4-a823-6b6fb0fdc071"
      },
      "execution_count": 122,
      "outputs": [
        {
          "output_type": "execute_result",
          "data": {
            "text/plain": [
              "array([False, False, False, ..., False, False, False])"
            ]
          },
          "metadata": {},
          "execution_count": 122
        }
      ]
    },
    {
      "cell_type": "code",
      "source": [
        "(y_test != y_pred).sum()"
      ],
      "metadata": {
        "colab": {
          "base_uri": "https://localhost:8080/"
        },
        "id": "o2HiodWxRtls",
        "outputId": "667223fb-872e-4c27-eaad-61fbf195828c"
      },
      "execution_count": 123,
      "outputs": [
        {
          "output_type": "execute_result",
          "data": {
            "text/plain": [
              "816"
            ]
          },
          "metadata": {},
          "execution_count": 123
        }
      ]
    },
    {
      "cell_type": "code",
      "source": [
        ""
      ],
      "metadata": {
        "id": "UjyphPIMRtoq"
      },
      "execution_count": null,
      "outputs": []
    },
    {
      "cell_type": "markdown",
      "metadata": {
        "id": "CiLtLM-c1Q2A"
      },
      "source": [
        "## Prediction"
      ]
    },
    {
      "cell_type": "code",
      "execution_count": 124,
      "metadata": {
        "id": "JqCbSpGZ1Q2A"
      },
      "outputs": [],
      "source": [
        "my_predict = X_test[3]"
      ]
    },
    {
      "cell_type": "code",
      "execution_count": 125,
      "metadata": {
        "colab": {
          "base_uri": "https://localhost:8080/"
        },
        "id": "fbE4II6E1Q2A",
        "outputId": "17942014-c15b-4ffa-bb00-b9af7cdd9d31"
      },
      "outputs": [
        {
          "output_type": "execute_result",
          "data": {
            "text/plain": [
              "(28, 28, 1)"
            ]
          },
          "metadata": {},
          "execution_count": 125
        }
      ],
      "source": [
        "my_predict.shape"
      ]
    },
    {
      "cell_type": "code",
      "source": [
        "plt.imshow(my_predict.reshape(28,28));"
      ],
      "metadata": {
        "colab": {
          "base_uri": "https://localhost:8080/",
          "height": 265
        },
        "id": "SSiBX0LIR82a",
        "outputId": "95e99ebc-91f6-47c0-9ba3-e6c26b2e0b69"
      },
      "execution_count": 126,
      "outputs": [
        {
          "output_type": "display_data",
          "data": {
            "text/plain": [
              "<Figure size 432x288 with 1 Axes>"
            ],
            "image/png": "[encoded data removed]"
          },
          "metadata": {
            "needs_background": "light"
          }
        }
      ]
    },
    {
      "cell_type": "code",
      "source": [
        "pred_prob = model.predict(my_predict.reshape(1,28,28,1))\n",
        "pred_prob"
      ],
      "metadata": {
        "colab": {
          "base_uri": "https://localhost:8080/"
        },
        "id": "myhOeYJIR84-",
        "outputId": "3fd2a89b-a86f-47c1-fd35-88c99a048cd2"
      },
      "execution_count": 127,
      "outputs": [
        {
          "output_type": "execute_result",
          "data": {
            "text/plain": [
              "array([[2.9009593e-09, 9.9999976e-01, 7.3364911e-11, 2.4124986e-07,\n",
              "        2.7922475e-09, 4.0480861e-12, 5.6529288e-11, 1.0079548e-14,\n",
              "        3.2372059e-12, 4.5514401e-11]], dtype=float32)"
            ]
          },
          "metadata": {},
          "execution_count": 127
        }
      ]
    },
    {
      "cell_type": "code",
      "source": [
        "y_pred = np.argmax(pred_prob)\n",
        "y_pred"
      ],
      "metadata": {
        "colab": {
          "base_uri": "https://localhost:8080/"
        },
        "id": "1QjzV7wMR87r",
        "outputId": "396e9468-adf5-49d8-d183-659b6dbadc49"
      },
      "execution_count": 128,
      "outputs": [
        {
          "output_type": "execute_result",
          "data": {
            "text/plain": [
              "1"
            ]
          },
          "metadata": {},
          "execution_count": 128
        }
      ]
    },
    {
      "cell_type": "code",
      "source": [
        "model.save(\"cnn-1.h5\")"
      ],
      "metadata": {
        "id": "CFtK7u6MSUgI"
      },
      "execution_count": 129,
      "outputs": []
    },
    {
      "cell_type": "code",
      "source": [
        "model=tf.keras.models.load_model('cnn-1.h5')"
      ],
      "metadata": {
        "id": "VgAj1M8NSUk_"
      },
      "execution_count": 130,
      "outputs": []
    },
    {
      "cell_type": "code",
      "source": [
        "pred=model.predict(np.expand_dims(X_test[47],axis=0))"
      ],
      "metadata": {
        "id": "kEisisYTSUnm"
      },
      "execution_count": 131,
      "outputs": []
    },
    {
      "cell_type": "code",
      "source": [
        "np.argmax(pred)"
      ],
      "metadata": {
        "colab": {
          "base_uri": "https://localhost:8080/"
        },
        "id": "-xNo7QtNSb_K",
        "outputId": "6ca461fe-1ce7-44df-ccd0-a227e4914fd4"
      },
      "execution_count": 132,
      "outputs": [
        {
          "output_type": "execute_result",
          "data": {
            "text/plain": [
              "1"
            ]
          },
          "metadata": {},
          "execution_count": 132
        }
      ]
    },
    {
      "cell_type": "code",
      "source": [
        "plt.imshow(X_test[3].reshape(28,28));"
      ],
      "metadata": {
        "colab": {
          "base_uri": "https://localhost:8080/",
          "height": 265
        },
        "id": "Yh7rzFKvScCK",
        "outputId": "daee22b3-7190-4fee-c406-2f7bf043299e"
      },
      "execution_count": 136,
      "outputs": [
        {
          "output_type": "display_data",
          "data": {
            "text/plain": [
              "<Figure size 432x288 with 1 Axes>"
            ],
            "image/png": "[encoded data removed]"
          },
          "metadata": {
            "needs_background": "light"
          }
        }
      ]
    },
    {
      "cell_type": "markdown",
      "metadata": {
        "id": "4GZWn8Xa1Q2A"
      },
      "source": [
        "# End of Assignment"
      ]
    },
    {
      "cell_type": "markdown",
      "metadata": {
        "id": "ZW8L261L1Q2A"
      },
      "source": [
        "___\n",
        "\n",
        "<p style=\"text-align: center;\"><img src=\"https://docs.google.com/uc?id=1lY0Uj5R04yMY3-ZppPWxqCr5pvBLYPnV\" class=\"img-fluid\" alt=\"CLRSWY\"></p>\n",
        "\n",
        "___"
      ]
    }
  ],
  "metadata": {
    "kernelspec": {
      "display_name": "Python 3",
      "language": "python",
      "name": "python3"
    },
    "language_info": {
      "codemirror_mode": {
        "name": "ipython",
        "version": 3
      },
      "file_extension": ".py",
      "mimetype": "text/x-python",
      "name": "python",
      "nbconvert_exporter": "python",
      "pygments_lexer": "ipython3",
      "version": "3.7.6"
    },
    "toc": {
      "base_numbering": 1,
      "nav_menu": {},
      "number_sections": false,
      "sideBar": true,
      "skip_h1_title": false,
      "title_cell": "Table of Contents",
      "title_sidebar": "Contents",
      "toc_cell": false,
      "toc_position": {},
      "toc_section_display": true,
      "toc_window_display": true
    },
    "colab": {
      "name": "DL-Assignment-2 (Image Classification with CNN)cözüm.ipynb",
      "provenance": [],
      "collapsed_sections": [],
      "include_colab_link": true
    }
  },
  "nbformat": 4,
  "nbformat_minor": 0
}